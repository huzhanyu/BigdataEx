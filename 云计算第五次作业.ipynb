{
 "cells": [
  {
   "cell_type": "code",
   "execution_count": 9,
   "id": "55d7dfe6",
   "metadata": {},
   "outputs": [
    {
     "name": "stdout",
     "output_type": "stream",
     "text": [
      "请输入第一个名字：黄思哲\n",
      "请输入第二个名字：周靖珊\n"
     ]
    }
   ],
   "source": [
    "import matplotlib\n",
    "# matplotlib.use('TkAgg')\n",
    "import matplotlib.pyplot as plt\n",
    "from datascience import *\n",
    "\n",
    "table7 = Table.read_table(\"C:\\\\Users\\\\yu\\\\Desktop\\\\新建文件夹/20211110-utf-8.csv\")\n",
    "table6 = Table.read_table(\"C:\\\\Users\\\\yu\\\\Desktop\\\\新建文件夹/20211109-utf-8.csv\")\n",
    "table5 = Table.read_table(\"C:\\\\Users\\\\yu\\\\Desktop\\\\新建文件夹/20211109-1-utf-8.csv\")\n",
    "table4 = Table.read_table(\"C:\\\\Users\\\\yu\\\\Desktop\\\\新建文件夹/20211108-utf-8.csv\")\n",
    "table3 = Table.read_table(\"C:\\\\Users\\\\yu\\\\Desktop\\\\新建文件夹/20211107-utf-8.csv\")\n",
    "table2 = Table.read_table(\"C:\\\\Users\\\\yu\\\\Desktop\\\\新建文件夹/20211106-utf-8.csv\")\n",
    "table1 = Table.read_table(\"C:\\\\Users\\\\yu\\\\Desktop\\\\新建文件夹/20211105-utf-8.csv\")\n",
    "\n",
    "name1 = input(\"请输入第一个名字：\")\n",
    "name2 = input(\"请输入第二个名字：\")\n",
    "\n",
    "def select(path,name):\n",
    "    a = path.where('姓名',name).column(11).item(0)\n",
    "    return a\n",
    "\n",
    "rank1 = make_array(select(table1,name1),select(table2,name1),select(table3,name1),select(table4,name1),select(table5,name1),select(table6,name1),select(table7,name1))\n",
    "results1 = Table().with_columns('考试序号',make_array(1,2,3,4,5,6,7),'班级名次',rank1)\n",
    "\n",
    "rank2 = make_array(select(table1,name2),select(table2,name2),select(table3,name2),select(table4,name2),select(table5,name2),select(table6,name2),select(table7,name2))\n",
    "results2 = Table().with_columns('考试序号',make_array(1,2,3,4,5,6,7),'班级名次',rank2)\n",
    "\n",
    "make = make_array(1,2,3,4,5,6,7)\n",
    "plt.plot(make,rank1,'o--',label=name1)\n",
    "plt.plot(make,rank2,'o--',label=name2)\n",
    "plt.title(name1 +'和'+ name2 + '比较')\n",
    "plt.xlabel('历届考试')\n",
    "plt.ylabel('年纪RANK')\n",
    "plt.axis([0,10,650,150])\n",
    "plt.legend(loc='upper right')\n",
    "plt.rcParams['font.sans-serif']= ['Microsoft YaHei']\n",
    "plt.grid()\n",
    "plt.show()"
   ]
  },
  {
   "cell_type": "code",
   "execution_count": null,
   "id": "fd2bf516",
   "metadata": {},
   "outputs": [],
   "source": []
  }
 ],
 "metadata": {
  "kernelspec": {
   "display_name": "Python 3 (ipykernel)",
   "language": "python",
   "name": "python3"
  },
  "language_info": {
   "codemirror_mode": {
    "name": "ipython",
    "version": 3
   },
   "file_extension": ".py",
   "mimetype": "text/x-python",
   "name": "python",
   "nbconvert_exporter": "python",
   "pygments_lexer": "ipython3",
   "version": "3.8.0"
  }
 },
 "nbformat": 4,
 "nbformat_minor": 5
}
