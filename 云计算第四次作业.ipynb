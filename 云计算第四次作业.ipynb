{
 "cells": [
  {
   "cell_type": "code",
   "execution_count": 40,
   "id": "9d6fce0e",
   "metadata": {},
   "outputs": [
    {
     "name": "stdout",
     "output_type": "stream",
     "text": [
      "请输入要查询的姓名：胡站瑜\n"
     ]
    },
    {
     "data": {
      "text/html": [
       "<table border=\"1\" class=\"dataframe\">\n",
       "    <thead>\n",
       "        <tr>\n",
       "            <th>日期</th> <th>时间</th> <th>考场</th> <th>科目</th>\n",
       "        </tr>\n",
       "    </thead>\n",
       "    <tbody>\n",
       "        <tr>\n",
       "            <td>['2022/11/14']</td> <td>['14:30-16:30']</td> <td>['教一504'] </td> <td>['hadoop']</td>\n",
       "        </tr>\n",
       "        <tr>\n",
       "            <td>[]            </td> <td>[]             </td> <td>[]        </td> <td>[]        </td>\n",
       "        </tr>\n",
       "        <tr>\n",
       "            <td>['2022/11/15']</td> <td>['14:30-16:30']</td> <td>['理一A310']</td> <td>['hive']  </td>\n",
       "        </tr>\n",
       "        <tr>\n",
       "            <td>[]            </td> <td>[]             </td> <td>[]        </td> <td>[]        </td>\n",
       "        </tr>\n",
       "    </tbody>\n",
       "</table>"
      ],
      "text/plain": [
       "日期             | 时间              | 考场         | 科目\n",
       "['2022/11/14'] | ['14:30-16:30'] | ['教一504']  | ['hadoop']\n",
       "[]             | []              | []         | []\n",
       "['2022/11/15'] | ['14:30-16:30'] | ['理一A310'] | ['hive']\n",
       "[]             | []              | []         | []"
      ]
     },
     "execution_count": 40,
     "metadata": {},
     "output_type": "execute_result"
    }
   ],
   "source": [
    "from datascience import *\n",
    "hadoop = Table.read_table(\"C:\\\\Users\\\\yu\\\\Desktop\\\\新建文件夹/hadoop.csv\")\n",
    "spark = Table.read_table(\"C:\\\\Users\\\\yu\\\\Desktop\\\\新建文件夹/spark.csv\")\n",
    "hive = Table.read_table(\"C:\\\\Users\\\\yu\\\\Desktop\\\\新建文件夹/hive.csv\")\n",
    "math = Table.read_table(\"C:\\\\Users\\\\yu\\\\Desktop\\\\新建文件夹/高数监考表.csv\")\n",
    "\n",
    "# def Inquire(path,name):\n",
    "#     a = path.where(\"姓名\",name)\n",
    "#     return a\n",
    "\n",
    "def Inquire(path,name):\n",
    "    a = path.where(\"姓名\",name)\n",
    "    date = a[2]\n",
    "    time = a[3]\n",
    "    classroom = a[4]\n",
    "    subject =a[5]\n",
    "    return [date,time,classroom,subject]\n",
    "\n",
    "name = input(\"请输入要查询的姓名：\")\n",
    "#content = list(Inquire(hadoop,name),Inquire(spark,name),Inquire(hive,name),Inquire(math,name))\n",
    "content_hadoop =if Inquire(hadoop,name)\n",
    "content_spark = Inquire(spark,name)\n",
    "content_hive = Inquire(hive,name)\n",
    "content_math = Inquire(math,name)\n",
    "# a = make_array(content_hadoop,content_spark,content_hive,content_math)\n",
    "date = (content_hadoop[0],content_spark[0],content_hive[0],content_math[0])\n",
    "time = (content_hadoop[1],content_spark[1],content_hive[1],content_math[1])\n",
    "classroom = (content_hadoop[2],content_spark[2],content_hive[2],content_math[2])\n",
    "subject = (content_hadoop[3],content_spark[3],content_hive[3],content_math[3])\n",
    "table = Table().with_columns(\"日期\",date,\"时间\",time,\"考场\",classroom,\"科目\",subject)\n",
    "table\n",
    "\n"
   ]
  },
  {
   "cell_type": "code",
   "execution_count": null,
   "id": "95f5b30f",
   "metadata": {},
   "outputs": [],
   "source": []
  },
  {
   "cell_type": "code",
   "execution_count": null,
   "id": "598f9fa4",
   "metadata": {},
   "outputs": [],
   "source": []
  },
  {
   "cell_type": "code",
   "execution_count": null,
   "id": "9c6a5366",
   "metadata": {},
   "outputs": [],
   "source": []
  },
  {
   "cell_type": "code",
   "execution_count": null,
   "id": "ff5ddeae",
   "metadata": {},
   "outputs": [],
   "source": []
  },
  {
   "cell_type": "code",
   "execution_count": 33,
   "id": "7a32a22d",
   "metadata": {},
   "outputs": [
    {
     "data": {
      "text/plain": [
       "array([],\n",
       "      dtype='<U6')"
      ]
     },
     "execution_count": 33,
     "metadata": {},
     "output_type": "execute_result"
    }
   ],
   "source": []
  },
  {
   "cell_type": "code",
   "execution_count": null,
   "id": "25833d18",
   "metadata": {},
   "outputs": [],
   "source": []
  },
  {
   "cell_type": "code",
   "execution_count": null,
   "id": "133b8d7f",
   "metadata": {},
   "outputs": [],
   "source": []
  },
  {
   "cell_type": "code",
   "execution_count": null,
   "id": "c22d0ce4",
   "metadata": {},
   "outputs": [],
   "source": []
  },
  {
   "cell_type": "code",
   "execution_count": null,
   "id": "b461a3b5",
   "metadata": {},
   "outputs": [],
   "source": []
  },
  {
   "cell_type": "code",
   "execution_count": 18,
   "id": "f4790ec7",
   "metadata": {},
   "outputs": [
    {
     "data": {
      "text/plain": [
       "Rows(学号         | 姓名   | 日期         | 时间          | 教室    | 科目\n",
       "2020145105 | 胡站瑜  | 2022/11/14 | 14:30-16:30 | 教一504 | hadoop)"
      ]
     },
     "execution_count": 18,
     "metadata": {},
     "output_type": "execute_result"
    }
   ],
   "source": []
  },
  {
   "cell_type": "code",
   "execution_count": null,
   "id": "7da1dc35",
   "metadata": {},
   "outputs": [],
   "source": []
  },
  {
   "cell_type": "code",
   "execution_count": 23,
   "id": "55821621",
   "metadata": {},
   "outputs": [
    {
     "data": {
      "text/plain": [
       "array([2, 3, 4], dtype=int64)"
      ]
     },
     "execution_count": 23,
     "metadata": {},
     "output_type": "execute_result"
    }
   ],
   "source": []
  },
  {
   "cell_type": "code",
   "execution_count": null,
   "id": "28fa82f6",
   "metadata": {},
   "outputs": [],
   "source": []
  },
  {
   "cell_type": "code",
   "execution_count": null,
   "id": "ab708fa5",
   "metadata": {},
   "outputs": [],
   "source": []
  },
  {
   "cell_type": "code",
   "execution_count": null,
   "id": "e588eddc",
   "metadata": {},
   "outputs": [],
   "source": []
  },
  {
   "cell_type": "code",
   "execution_count": null,
   "id": "3e6f5426",
   "metadata": {},
   "outputs": [],
   "source": []
  },
  {
   "cell_type": "code",
   "execution_count": null,
   "id": "5229ac8c",
   "metadata": {},
   "outputs": [],
   "source": []
  },
  {
   "cell_type": "code",
   "execution_count": null,
   "id": "05ca38d6",
   "metadata": {},
   "outputs": [],
   "source": []
  },
  {
   "cell_type": "code",
   "execution_count": null,
   "id": "e2031438",
   "metadata": {},
   "outputs": [],
   "source": []
  },
  {
   "cell_type": "code",
   "execution_count": null,
   "id": "7984bb56",
   "metadata": {},
   "outputs": [],
   "source": []
  },
  {
   "cell_type": "code",
   "execution_count": null,
   "id": "8f3490cb",
   "metadata": {},
   "outputs": [],
   "source": []
  },
  {
   "cell_type": "code",
   "execution_count": null,
   "id": "af1b235f",
   "metadata": {},
   "outputs": [],
   "source": []
  }
 ],
 "metadata": {
  "kernelspec": {
   "display_name": "Python 3 (ipykernel)",
   "language": "python",
   "name": "python3"
  },
  "language_info": {
   "codemirror_mode": {
    "name": "ipython",
    "version": 3
   },
   "file_extension": ".py",
   "mimetype": "text/x-python",
   "name": "python",
   "nbconvert_exporter": "python",
   "pygments_lexer": "ipython3",
   "version": "3.8.0"
  }
 },
 "nbformat": 4,
 "nbformat_minor": 5
}
